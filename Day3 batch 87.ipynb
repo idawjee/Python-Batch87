{
 "cells": [
  {
   "cell_type": "code",
   "execution_count": null,
   "id": "47e78ffd-b3ec-419a-82cb-48766c08d01e",
   "metadata": {},
   "outputs": [],
   "source": [
    "Intro to Python Programming"
   ]
  },
  {
   "cell_type": "code",
   "execution_count": null,
   "id": "ef7add37-d68c-4f21-b647-593874279986",
   "metadata": {},
   "outputs": [],
   "source": [
    "Understanding Variable in Python"
   ]
  },
  {
   "cell_type": "code",
   "execution_count": 3,
   "id": "ad6c38cf-85e0-4853-aa11-1f999ed280e3",
   "metadata": {},
   "outputs": [],
   "source": [
    "x = \"2\"\n",
    "y = \"3\""
   ]
  },
  {
   "cell_type": "code",
   "execution_count": 6,
   "id": "5bdd6e42-645d-4db3-afda-f8b88106481a",
   "metadata": {},
   "outputs": [],
   "source": [
    "z = \"x+y\""
   ]
  },
  {
   "cell_type": "code",
   "execution_count": 12,
   "id": "fe3ed64a-47d1-4031-9e21-64fd3e01267e",
   "metadata": {},
   "outputs": [
    {
     "name": "stdout",
     "output_type": "stream",
     "text": [
      "5\n"
     ]
    }
   ],
   "source": [
    "print(z)"
   ]
  },
  {
   "cell_type": "code",
   "execution_count": null,
   "id": "a2162ebd-aa6e-4208-9b9a-55344291a385",
   "metadata": {},
   "outputs": [],
   "source": [
    "Rules Decaring Variables"
   ]
  },
  {
   "cell_type": "code",
   "execution_count": null,
   "id": "0dc58008-2d86-4f31-924a-0ad6b9ce9dfe",
   "metadata": {},
   "outputs": [],
   "source": [
    "1. No name spaces while decalring variables"
   ]
  },
  {
   "cell_type": "code",
   "execution_count": 1,
   "id": "fa8c9a15-86a6-442f-90f6-75acbcbfed1f",
   "metadata": {},
   "outputs": [
    {
     "name": "stdout",
     "output_type": "stream",
     "text": [
      "Faiyaz\n"
     ]
    }
   ],
   "source": [
    "firstname = \"Faiyaz\"\n",
    "print (firstname)"
   ]
  },
  {
   "cell_type": "code",
   "execution_count": 2,
   "id": "ee401a73-b9e2-4251-8a22-3ec81ebbce6e",
   "metadata": {},
   "outputs": [
    {
     "name": "stdout",
     "output_type": "stream",
     "text": [
      "Faiyaz\n"
     ]
    }
   ],
   "source": [
    "First_name = \"Faiyaz\"\n",
    "print (First_name)"
   ]
  },
  {
   "cell_type": "code",
   "execution_count": null,
   "id": "12018d59-df69-4de6-aae0-2acd74f898d8",
   "metadata": {},
   "outputs": [],
   "source": [
    "2. Variable should not start with a number eg 1Name but name1"
   ]
  },
  {
   "cell_type": "code",
   "execution_count": null,
   "id": "8d8bcaf1-4ae9-41bb-8fcf-4894e343c7cc",
   "metadata": {},
   "outputs": [],
   "source": [
    "3. Variable print name should not contain special characters @ % # $ & etc"
   ]
  },
  {
   "cell_type": "code",
   "execution_count": null,
   "id": "91068e12-b727-4af9-b930-fd2c15dcbc4d",
   "metadata": {},
   "outputs": [],
   "source": [
    "Intro to data types in Python"
   ]
  },
  {
   "cell_type": "code",
   "execution_count": null,
   "id": "e77bf446-dfba-4eaa-bb7c-c83760e96b02",
   "metadata": {},
   "outputs": [],
   "source": [
    "1. String ==> str"
   ]
  },
  {
   "cell_type": "code",
   "execution_count": null,
   "id": "35ec5a14-b4ba-495c-ba0b-b0c8635f2ceb",
   "metadata": {},
   "outputs": [],
   "source": [
    "2. integers --> int Floats(decimal) & floats (0.1, 0.2)"
   ]
  },
  {
   "cell_type": "code",
   "execution_count": null,
   "id": "31e11e42-4adc-478b-afbe-f5851215f165",
   "metadata": {},
   "outputs": [],
   "source": [
    "3. Lists --> List"
   ]
  },
  {
   "cell_type": "code",
   "execution_count": null,
   "id": "dd9a83e4-2041-4a23-ab0d-0f3408339764",
   "metadata": {},
   "outputs": [],
   "source": [
    "4. Tuples --> tupl"
   ]
  },
  {
   "cell_type": "code",
   "execution_count": null,
   "id": "7e6ac80b-8927-440c-bfea-8dccc0a58d22",
   "metadata": {},
   "outputs": [],
   "source": [
    "5. dictionaries --> dict"
   ]
  },
  {
   "cell_type": "code",
   "execution_count": null,
   "id": "9e2c9b72-5007-4336-b232-a26348e0a7fd",
   "metadata": {},
   "outputs": [],
   "source": [
    "Classification of data types\n",
    "mutable   edit/alter flexible in nature\n",
    "immutable  canot edit, fixed in nature"
   ]
  },
  {
   "cell_type": "code",
   "execution_count": null,
   "id": "15a79785-0976-4517-b039-1cefda18c19a",
   "metadata": {},
   "outputs": [],
   "source": [
    "Intro to string datatype"
   ]
  },
  {
   "cell_type": "code",
   "execution_count": null,
   "id": "d4f140a5-df3e-4e7a-8892-8b64b46a2b1f",
   "metadata": {},
   "outputs": [],
   "source": [
    "String --> character declare in quote classified immutable (Fixed)\n",
    "approaches\n",
    "1. single quote\n",
    "2. double quote\n",
    "name = 'Afsha' # single quote\n",
    "name = \"Surya\" # double quote"
   ]
  },
  {
   "cell_type": "code",
   "execution_count": null,
   "id": "82c3f69f-4ae9-4547-a3bf-b4dd8fa69c27",
   "metadata": {},
   "outputs": [],
   "source": [
    "Introduction to string methods:\n",
    "type (name)    type (name2)\n",
    "str str         str"
   ]
  },
  {
   "cell_type": "code",
   "execution_count": null,
   "id": "ab1c0d40-af0c-496d-a8c8-7640c3910161",
   "metadata": {},
   "outputs": [],
   "source": [
    "Construction of Strings:"
   ]
  },
  {
   "cell_type": "code",
   "execution_count": 16,
   "id": "9679fc3b-bedb-4215-a148-fd7810b743ea",
   "metadata": {},
   "outputs": [
    {
     "name": "stdout",
     "output_type": "stream",
     "text": [
      "SahilKhan\n"
     ]
    }
   ],
   "source": [
    "fullname = 'SahilKhan'\n",
    "print(fullname)"
   ]
  },
  {
   "cell_type": "code",
   "execution_count": 17,
   "id": "ec816940-5e1e-4815-b7ec-a0afcf4e07c3",
   "metadata": {},
   "outputs": [
    {
     "ename": "AttributeError",
     "evalue": "'str' object has no attribute 'tittle'",
     "output_type": "error",
     "traceback": [
      "\u001b[1;31m---------------------------------------------------------------------------\u001b[0m",
      "\u001b[1;31mAttributeError\u001b[0m                            Traceback (most recent call last)",
      "Cell \u001b[1;32mIn[17], line 2\u001b[0m\n\u001b[0;32m      1\u001b[0m fullname \u001b[38;5;241m=\u001b[39m \u001b[38;5;124m'\u001b[39m\u001b[38;5;124mSahil Khan\u001b[39m\u001b[38;5;124m'\u001b[39m\n\u001b[1;32m----> 2\u001b[0m \u001b[38;5;28mprint\u001b[39m (fullname\u001b[38;5;241m.\u001b[39mtittle())\n",
      "\u001b[1;31mAttributeError\u001b[0m: 'str' object has no attribute 'tittle'"
     ]
    }
   ],
   "source": [
    "fullname = 'Sahil Khan'\n",
    "print (fullname.tittle())"
   ]
  },
  {
   "cell_type": "code",
   "execution_count": 18,
   "id": "2e4e533d-1805-4628-a5e8-e6cd91a478a1",
   "metadata": {},
   "outputs": [
    {
     "ename": "NameError",
     "evalue": "name 'upper' is not defined",
     "output_type": "error",
     "traceback": [
      "\u001b[1;31m---------------------------------------------------------------------------\u001b[0m",
      "\u001b[1;31mNameError\u001b[0m                                 Traceback (most recent call last)",
      "Cell \u001b[1;32mIn[18], line 1\u001b[0m\n\u001b[1;32m----> 1\u001b[0m \u001b[38;5;28mprint\u001b[39m (fullname,upper())\n",
      "\u001b[1;31mNameError\u001b[0m: name 'upper' is not defined"
     ]
    }
   ],
   "source": [
    "print (fullname,upper())"
   ]
  },
  {
   "cell_type": "code",
   "execution_count": null,
   "id": "7427415f-681f-4e76-8c5d-b3100409229d",
   "metadata": {},
   "outputs": [],
   "source": []
  }
 ],
 "metadata": {
  "kernelspec": {
   "display_name": "Python 3 (ipykernel)",
   "language": "python",
   "name": "python3"
  },
  "language_info": {
   "codemirror_mode": {
    "name": "ipython",
    "version": 3
   },
   "file_extension": ".py",
   "mimetype": "text/x-python",
   "name": "python",
   "nbconvert_exporter": "python",
   "pygments_lexer": "ipython3",
   "version": "3.11.7"
  }
 },
 "nbformat": 4,
 "nbformat_minor": 5
}
